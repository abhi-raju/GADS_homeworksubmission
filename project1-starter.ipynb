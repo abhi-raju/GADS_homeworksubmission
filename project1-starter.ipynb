{
 "cells": [
  {
   "cell_type": "markdown",
   "metadata": {},
   "source": [
    "### Project 1\n",
    "\n",
    "In this first project you will create a framework to scope out data science projects. This framework will provide you with a guide to develop a well-articulated problem statement and analysis plan that will be robust and reproducible."
   ]
  },
  {
   "cell_type": "markdown",
   "metadata": {},
   "source": [
    "### Read and evaluate the following problem statement: \n",
    "Determine which free-tier customers will convert to paying customers, using demographic data collected at signup (age, gender, location, and profession) and customer usage data (days since last log in, and activity score 1 = active user, 0= inactive user) based on Hooli data from Jan-Apr 2015. \n"
   ]
  },
  {
   "cell_type": "markdown",
   "metadata": {},
   "source": [
    "#### 1. What is the outcome?"
   ]
  },
  {
   "cell_type": "markdown",
   "metadata": {},
   "source": [
    "Answer: Whether or not Free-tier customers will convert to paying customers"
   ]
  },
  {
   "cell_type": "markdown",
   "metadata": {},
   "source": [
    "#### 2. What are the predictors/covariates? "
   ]
  },
  {
   "cell_type": "markdown",
   "metadata": {},
   "source": [
    "Answer: Demographic data (age, gender, location, and profession) and customer usage data"
   ]
  },
  {
   "cell_type": "markdown",
   "metadata": {},
   "source": [
    "#### 3. What timeframe is this data relevent for?"
   ]
  },
  {
   "cell_type": "markdown",
   "metadata": {},
   "source": [
    "Answer: Jan. - Apr. 2015"
   ]
  },
  {
   "cell_type": "markdown",
   "metadata": {},
   "source": [
    "#### 4. What is the hypothesis?"
   ]
  },
  {
   "cell_type": "markdown",
   "metadata": {},
   "source": [
    "Answer: Based on certain demographic and customer usage data, free-tier customers are more likely to convert to paying customers (implying a correlation between the conversion of customers and the predictor data)."
   ]
  },
  {
   "cell_type": "markdown",
   "metadata": {},
   "source": [
    "## Let's get started with our dataset"
   ]
  },
  {
   "cell_type": "markdown",
   "metadata": {},
   "source": [
    "#### 1. Create a data dictionary "
   ]
  },
  {
   "cell_type": "markdown",
   "metadata": {},
   "source": [
    "\n",
    "\n",
    "Variable | Description | Type of Variable\n",
    "---| ---| ---\n",
    "admit | 0 = not admitted 1 = admitted | categorical\n",
    "gre | score on gre exam | continuous\n",
    "gpa | undergraduate gpa | continous\n",
    "rank | undergraduate school ranking/prestige level (1-4) | categorical\n"
   ]
  },
  {
   "cell_type": "markdown",
   "metadata": {},
   "source": [
    "#### 2. What is the outcome?"
   ]
  },
  {
   "cell_type": "markdown",
   "metadata": {},
   "source": [
    "Answer: Undergraduate students are either admitted or not admitted to a graduate school."
   ]
  },
  {
   "cell_type": "markdown",
   "metadata": {},
   "source": [
    "#### 3. What are the predictors/covariates? "
   ]
  },
  {
   "cell_type": "markdown",
   "metadata": {},
   "source": [
    "Answer: GRE scores, GPA and undergraduate school rank."
   ]
  },
  {
   "cell_type": "markdown",
   "metadata": {},
   "source": [
    "#### 4. What timeframe is this data relevent for?"
   ]
  },
  {
   "cell_type": "markdown",
   "metadata": {},
   "source": [
    "Answer: Not available."
   ]
  },
  {
   "cell_type": "markdown",
   "metadata": {},
   "source": [
    "#### 4. What is the hypothesis?"
   ]
  },
  {
   "cell_type": "markdown",
   "metadata": {},
   "source": [
    "Answer: Based on certain GRE scores, student undergraduate GPA, and undergraduate school prestige/rank, a student is more likely to be admitted to graduate school."
   ]
  },
  {
   "cell_type": "markdown",
   "metadata": {},
   "source": [
    "## Problem Statement"
   ]
  },
  {
   "cell_type": "markdown",
   "metadata": {},
   "source": [
    "### Exploratory Analysis Plan"
   ]
  },
  {
   "cell_type": "markdown",
   "metadata": {},
   "source": [
    "Using the lab from a class as a guide, create an exploratory analysis plan. "
   ]
  },
  {
   "cell_type": "markdown",
   "metadata": {},
   "source": [
    "#### 1. What are the goals of the exploratory analysis? "
   ]
  },
  {
   "cell_type": "markdown",
   "metadata": {
    "collapsed": true
   },
   "source": [
    "Answer: The goals of exploratory analysis are to gain insights into the data using primarily graphical methods. This will allow us to first develop a view of the structure of the data before moving further into descriptive or inferential analysis. This phase of analysis will allow us to summarize the main characteristics of the data using visual aids."
   ]
  },
  {
   "cell_type": "markdown",
   "metadata": {},
   "source": [
    "#### 2a. What are the assumptions of the distribution of data? "
   ]
  },
  {
   "cell_type": "markdown",
   "metadata": {},
   "source": [
    "Answer: Sampling distribution of mean is normal, and at a broader level, an assumption of normality is maintained across all random variables."
   ]
  },
  {
   "cell_type": "markdown",
   "metadata": {},
   "source": [
    "#### 2b. How will determine the distribution of your data? "
   ]
  },
  {
   "cell_type": "markdown",
   "metadata": {
    "collapsed": true
   },
   "source": [
    "Answer: First, basic summary statistics will be calculated in order to establish solid descriptions of the data we have. I will follow the calculation of the basic statistics with the creation of a box plot (as part of the exploratory analysis) in order to view a visual summary of the data, specific to the main descriptive statistics. I would then use the pandas functions for skewness and kurtosis in order to establish how my data is distributed about the mean, and how peaked my distribution is. Given these strategies, I will then have a good understanding of how my data is distributed."
   ]
  },
  {
   "cell_type": "markdown",
   "metadata": {},
   "source": [
    "#### 3a. How might outliers impact your analysis? "
   ]
  },
  {
   "cell_type": "markdown",
   "metadata": {
    "collapsed": true
   },
   "source": [
    "Answer: Outliers may impact my analysis by affecting the mean statistic. The mean, being the average of all values, may not be as representative of the data if there are outliers pulling it in either one direction or the other."
   ]
  },
  {
   "cell_type": "markdown",
   "metadata": {},
   "source": [
    "#### 3b. How will you test for outliers? "
   ]
  },
  {
   "cell_type": "markdown",
   "metadata": {},
   "source": [
    "Answer: I will plot the data using a box plot and calculate the key values: Max, Min, Q1, Q3, Median, and Interquartile Range (IQR). The IQR will give me an idea of how spread out the \"middle\" values, or values close to the mean and median are. With the IQR, I will then determine the existence of outliers by identifying which values are further than a distance equivalent to 1.5xIQR from either Q1 or Q3 (the ends of the box). "
   ]
  },
  {
   "cell_type": "markdown",
   "metadata": {},
   "source": [
    "#### 4a. What is colinearity? "
   ]
  },
  {
   "cell_type": "markdown",
   "metadata": {
    "collapsed": true
   },
   "source": [
    "Answer: Colinnearity is the existence of a correlation between multiple predictors or X/dependent variables. "
   ]
  },
  {
   "cell_type": "markdown",
   "metadata": {},
   "source": [
    "#### 4b. How will you test for colinearity? "
   ]
  },
  {
   "cell_type": "markdown",
   "metadata": {},
   "source": [
    "Answer: I will test for colinearity by first judging the significance of the regression coefficient. If I expect the variable to be highly correlated with the independent variable, then I will make sure that the regression coefficient is equally, or at least sufficiently, significant. Another way to test for colinnearity is to see whether the regression coefficient is negative if the response/independent variable is expected to increase along with the dependent variable; and vice versa. I can also observe whether there is a pairwise correlation between the two X variables themselves. Lastly I can test for colinnearity by removing or adding dependent variable(s) and judging the degree of the effect on the regression coefficient."
   ]
  },
  {
   "cell_type": "markdown",
   "metadata": {},
   "source": [
    "#### 5. What is your exploratory analysis plan?\n",
    "Using the above information, write an exploratory analysis plan that would allow you or a colleague to reproduce your analysis 1 year from now. "
   ]
  },
  {
   "cell_type": "markdown",
   "metadata": {},
   "source": [
    "Answer:\n",
    "1. Load data set\n",
    "2. Print basic summary statistics (mean, max, min, quartiles, std)\n",
    "3. Create box plot of data\n",
    "4. Note key values from box plot (Q1, Q3, median, IQR, Max, Min)\n",
    "5. Calculate 1.5xIQR distance from either end of box plot (Q1 & Q3) to determine range of normal values, and furthermore, determine the existence of outliers.\n",
    "7. Calculate skew and kurtosis of data set in order to determine rough shape of distribution\n",
    "8. Create scatter plot of data\n",
    "9. Calculate regression coefficient (\"m\" in y=mx+b)\n",
    "10. Test for collinearity with methods outlined above\n",
    "11. Summarize results"
   ]
  },
  {
   "cell_type": "markdown",
   "metadata": {},
   "source": [
    "## Bonus Questions:\n",
    "1. Outline your analysis method for predicting your outcome\n",
    "2. Write an alternative problem statement for your dataset\n",
    "3. Articulate the assumptions and risks of the alternative model"
   ]
  },
  {
   "cell_type": "markdown",
   "metadata": {
    "collapsed": true
   },
   "source": [
    "1. In order to predict my outcome I would first select for the most accurate covariates/predictors, by selecting many and narrowing down by determining which are collinear and which are not. Once I have a  set of predictors, I would graph a correlation between the dependent and independent variables. Given the existence, or lack, of a correlation, I will then be able to predict whether my outcome will be likely."
   ]
  },
  {
   "cell_type": "markdown",
   "metadata": {},
   "source": [
    "2. Using the admissions data above, an alternative problem statement could be: predict the likelihood for not being admitted to graduate school based on undergraduate school rank and gpa, with the specific hypothesis being, those who attended lower ranked undergraduate institutions AND scored a low gpa at these institutions, have a higher chance of not being accepted to graduate school."
   ]
  },
  {
   "cell_type": "markdown",
   "metadata": {},
   "source": [
    "3. The initial assumptions of this model are specifically that all undergraduate students have an equally likely chance of being admitted to graduate school. The main risk with this problem statement is that there may still be other factors that have an influence on admittance into graduate school that this problem statement is not taking into account, and therefore, will not be able to factor these predictors into the prediction. Furthermore, the final prediction may not be entirely correct, due to missing information and insight surrounding key predictors that were not in the data. The data limits the predictors that can be used for this model, and that, in itself, imposes a risk. "
   ]
  }
 ],
 "metadata": {
  "anaconda-cloud": {},
  "kernelspec": {
   "display_name": "Python [Root]",
   "language": "python",
   "name": "Python [Root]"
  },
  "language_info": {
   "codemirror_mode": {
    "name": "ipython",
    "version": 2
   },
   "file_extension": ".py",
   "mimetype": "text/x-python",
   "name": "python",
   "nbconvert_exporter": "python",
   "pygments_lexer": "ipython2",
   "version": "2.7.12"
  }
 },
 "nbformat": 4,
 "nbformat_minor": 0
}
